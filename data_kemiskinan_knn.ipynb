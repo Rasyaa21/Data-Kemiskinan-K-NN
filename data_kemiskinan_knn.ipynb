{
  "nbformat": 4,
  "nbformat_minor": 0,
  "metadata": {
    "colab": {
      "provenance": [],
      "mount_file_id": "1ysAOo1h8VGqKvUxMeVhCNIYQOdSdTwkR",
      "authorship_tag": "ABX9TyMCIQ5UPO6TY60P+mssgk/E",
      "include_colab_link": true
    },
    "kernelspec": {
      "name": "python3",
      "display_name": "Python 3"
    },
    "language_info": {
      "name": "python"
    }
  },
  "cells": [
    {
      "cell_type": "markdown",
      "metadata": {
        "id": "view-in-github",
        "colab_type": "text"
      },
      "source": [
        "<a href=\"https://colab.research.google.com/github/Rasyaa21/Data-Kemiskinan-K-NN/blob/main/data_kemiskinan_knn.ipynb\" target=\"_parent\"><img src=\"https://colab.research.google.com/assets/colab-badge.svg\" alt=\"Open In Colab\"/></a>"
      ]
    },
    {
      "cell_type": "code",
      "execution_count": 144,
      "metadata": {
        "id": "obF0O3WxKBwc"
      },
      "outputs": [],
      "source": [
        "import pandas as pd\n",
        "import seaborn as sns\n",
        "import matplotlib.pyplot as plt\n",
        "import numpy as np\n",
        "from scipy.stats import boxcox\n",
        "from imblearn.over_sampling import SMOTE\n",
        "from sklearn.preprocessing import LabelEncoder\n",
        "from sklearn.model_selection import train_test_split\n",
        "from sklearn.preprocessing import StandardScaler\n",
        "from sklearn.neighbors import KNeighborsClassifier\n",
        "from sklearn.metrics import classification_report\n",
        "from sklearn.metrics import accuracy_score\n",
        "from sklearn.metrics import confusion_matrix"
      ]
    },
    {
      "cell_type": "code",
      "source": [
        "from google.colab import drive\n",
        "drive.mount('/content/drive')"
      ],
      "metadata": {
        "colab": {
          "base_uri": "https://localhost:8080/"
        },
        "id": "k5jdpYNQKICN",
        "outputId": "fa5837c3-a5bc-4905-cbb9-cdb7809a1988"
      },
      "execution_count": 145,
      "outputs": [
        {
          "output_type": "stream",
          "name": "stdout",
          "text": [
            "Drive already mounted at /content/drive; to attempt to forcibly remount, call drive.mount(\"/content/drive\", force_remount=True).\n"
          ]
        }
      ]
    },
    {
      "cell_type": "code",
      "source": [
        "df = pd.read_csv('/content/drive/MyDrive/dataset/Klasifikasi Tingkat Kemiskinan di Indonesia.csv', sep=';')\n",
        "df"
      ],
      "metadata": {
        "colab": {
          "base_uri": "https://localhost:8080/",
          "height": 572
        },
        "id": "fL9-fYnhKQlC",
        "outputId": "7dc66a4d-32eb-4725-b96b-e2fb528060cd"
      },
      "execution_count": 146,
      "outputs": [
        {
          "output_type": "execute_result",
          "data": {
            "text/plain": [
              "    Provinsi       Kab/Kota  \\\n",
              "0       ACEH       Simeulue   \n",
              "1       ACEH   Aceh Singkil   \n",
              "2       ACEH   Aceh Selatan   \n",
              "3       ACEH  Aceh Tenggara   \n",
              "4       ACEH     Aceh Timur   \n",
              "..       ...            ...   \n",
              "994      NaN            NaN   \n",
              "995      NaN            NaN   \n",
              "996      NaN            NaN   \n",
              "997      NaN            NaN   \n",
              "998      NaN            NaN   \n",
              "\n",
              "    Persentase Penduduk Miskin (P0) Menurut Kabupaten/Kota (Persen)  \\\n",
              "0                                                18,98                \n",
              "1                                                20,36                \n",
              "2                                                13,18                \n",
              "3                                                13,41                \n",
              "4                                                14,45                \n",
              "..                                                 ...                \n",
              "994                                                NaN                \n",
              "995                                                NaN                \n",
              "996                                                NaN                \n",
              "997                                                NaN                \n",
              "998                                                NaN                \n",
              "\n",
              "    Rata-rata Lama Sekolah Penduduk 15+ (Tahun)  \\\n",
              "0                                          9,48   \n",
              "1                                          8,68   \n",
              "2                                          8,88   \n",
              "3                                          9,67   \n",
              "4                                          8,21   \n",
              "..                                          ...   \n",
              "994                                         NaN   \n",
              "995                                         NaN   \n",
              "996                                         NaN   \n",
              "997                                         NaN   \n",
              "998                                         NaN   \n",
              "\n",
              "     Pengeluaran per Kapita Disesuaikan (Ribu Rupiah/Orang/Tahun)  \\\n",
              "0                                               7148.0              \n",
              "1                                               8776.0              \n",
              "2                                               8180.0              \n",
              "3                                               8030.0              \n",
              "4                                               8577.0              \n",
              "..                                                 ...              \n",
              "994                                                NaN              \n",
              "995                                                NaN              \n",
              "996                                                NaN              \n",
              "997                                                NaN              \n",
              "998                                                NaN              \n",
              "\n",
              "    Indeks Pembangunan Manusia Umur Harapan Hidup (Tahun)  \\\n",
              "0                        66,41                      65,28   \n",
              "1                        69,22                      67,43   \n",
              "2                        67,44                       64,4   \n",
              "3                        69,44                      68,22   \n",
              "4                        67,83                      68,74   \n",
              "..                         ...                        ...   \n",
              "994                        NaN                        NaN   \n",
              "995                        NaN                        NaN   \n",
              "996                        NaN                        NaN   \n",
              "997                        NaN                        NaN   \n",
              "998                        NaN                        NaN   \n",
              "\n",
              "    Persentase rumah tangga yang memiliki akses terhadap sanitasi layak  \\\n",
              "0                                                71,56                    \n",
              "1                                                69,56                    \n",
              "2                                                62,55                    \n",
              "3                                                62,71                    \n",
              "4                                                66,75                    \n",
              "..                                                 ...                    \n",
              "994                                                NaN                    \n",
              "995                                                NaN                    \n",
              "996                                                NaN                    \n",
              "997                                                NaN                    \n",
              "998                                                NaN                    \n",
              "\n",
              "    Persentase rumah tangga yang memiliki akses terhadap air minum layak  \\\n",
              "0                                                87,45                     \n",
              "1                                                78,58                     \n",
              "2                                                79,65                     \n",
              "3                                                86,71                     \n",
              "4                                                83,16                     \n",
              "..                                                 ...                     \n",
              "994                                                NaN                     \n",
              "995                                                NaN                     \n",
              "996                                                NaN                     \n",
              "997                                                NaN                     \n",
              "998                                                NaN                     \n",
              "\n",
              "    Tingkat Pengangguran Terbuka Tingkat Partisipasi Angkatan Kerja  \\\n",
              "0                           5,71                             71,15    \n",
              "1                           8,36                             62,85    \n",
              "2                           6,46                             60,85    \n",
              "3                           6,43                             69,62    \n",
              "4                           7,13                             59,48    \n",
              "..                           ...                                ...   \n",
              "994                          NaN                                NaN   \n",
              "995                          NaN                                NaN   \n",
              "996                          NaN                                NaN   \n",
              "997                          NaN                                NaN   \n",
              "998                          NaN                                NaN   \n",
              "\n",
              "     PDRB atas Dasar Harga Konstan menurut Pengeluaran (Rupiah)  \\\n",
              "0                                            1648096.0            \n",
              "1                                            1780419.0            \n",
              "2                                            4345784.0            \n",
              "3                                            3487157.0            \n",
              "4                                            8433526.0            \n",
              "..                                                 ...            \n",
              "994                                                NaN            \n",
              "995                                                NaN            \n",
              "996                                                NaN            \n",
              "997                                                NaN            \n",
              "998                                                NaN            \n",
              "\n",
              "     Klasifikasi Kemiskinan  \n",
              "0                       0.0  \n",
              "1                       1.0  \n",
              "2                       0.0  \n",
              "3                       0.0  \n",
              "4                       0.0  \n",
              "..                      ...  \n",
              "994                     NaN  \n",
              "995                     NaN  \n",
              "996                     NaN  \n",
              "997                     NaN  \n",
              "998                     NaN  \n",
              "\n",
              "[999 rows x 13 columns]"
            ],
            "text/html": [
              "\n",
              "  <div id=\"df-ed1ca7bd-2342-4722-915e-1a0cfc9405cc\" class=\"colab-df-container\">\n",
              "    <div>\n",
              "<style scoped>\n",
              "    .dataframe tbody tr th:only-of-type {\n",
              "        vertical-align: middle;\n",
              "    }\n",
              "\n",
              "    .dataframe tbody tr th {\n",
              "        vertical-align: top;\n",
              "    }\n",
              "\n",
              "    .dataframe thead th {\n",
              "        text-align: right;\n",
              "    }\n",
              "</style>\n",
              "<table border=\"1\" class=\"dataframe\">\n",
              "  <thead>\n",
              "    <tr style=\"text-align: right;\">\n",
              "      <th></th>\n",
              "      <th>Provinsi</th>\n",
              "      <th>Kab/Kota</th>\n",
              "      <th>Persentase Penduduk Miskin (P0) Menurut Kabupaten/Kota (Persen)</th>\n",
              "      <th>Rata-rata Lama Sekolah Penduduk 15+ (Tahun)</th>\n",
              "      <th>Pengeluaran per Kapita Disesuaikan (Ribu Rupiah/Orang/Tahun)</th>\n",
              "      <th>Indeks Pembangunan Manusia</th>\n",
              "      <th>Umur Harapan Hidup (Tahun)</th>\n",
              "      <th>Persentase rumah tangga yang memiliki akses terhadap sanitasi layak</th>\n",
              "      <th>Persentase rumah tangga yang memiliki akses terhadap air minum layak</th>\n",
              "      <th>Tingkat Pengangguran Terbuka</th>\n",
              "      <th>Tingkat Partisipasi Angkatan Kerja</th>\n",
              "      <th>PDRB atas Dasar Harga Konstan menurut Pengeluaran (Rupiah)</th>\n",
              "      <th>Klasifikasi Kemiskinan</th>\n",
              "    </tr>\n",
              "  </thead>\n",
              "  <tbody>\n",
              "    <tr>\n",
              "      <th>0</th>\n",
              "      <td>ACEH</td>\n",
              "      <td>Simeulue</td>\n",
              "      <td>18,98</td>\n",
              "      <td>9,48</td>\n",
              "      <td>7148.0</td>\n",
              "      <td>66,41</td>\n",
              "      <td>65,28</td>\n",
              "      <td>71,56</td>\n",
              "      <td>87,45</td>\n",
              "      <td>5,71</td>\n",
              "      <td>71,15</td>\n",
              "      <td>1648096.0</td>\n",
              "      <td>0.0</td>\n",
              "    </tr>\n",
              "    <tr>\n",
              "      <th>1</th>\n",
              "      <td>ACEH</td>\n",
              "      <td>Aceh Singkil</td>\n",
              "      <td>20,36</td>\n",
              "      <td>8,68</td>\n",
              "      <td>8776.0</td>\n",
              "      <td>69,22</td>\n",
              "      <td>67,43</td>\n",
              "      <td>69,56</td>\n",
              "      <td>78,58</td>\n",
              "      <td>8,36</td>\n",
              "      <td>62,85</td>\n",
              "      <td>1780419.0</td>\n",
              "      <td>1.0</td>\n",
              "    </tr>\n",
              "    <tr>\n",
              "      <th>2</th>\n",
              "      <td>ACEH</td>\n",
              "      <td>Aceh Selatan</td>\n",
              "      <td>13,18</td>\n",
              "      <td>8,88</td>\n",
              "      <td>8180.0</td>\n",
              "      <td>67,44</td>\n",
              "      <td>64,4</td>\n",
              "      <td>62,55</td>\n",
              "      <td>79,65</td>\n",
              "      <td>6,46</td>\n",
              "      <td>60,85</td>\n",
              "      <td>4345784.0</td>\n",
              "      <td>0.0</td>\n",
              "    </tr>\n",
              "    <tr>\n",
              "      <th>3</th>\n",
              "      <td>ACEH</td>\n",
              "      <td>Aceh Tenggara</td>\n",
              "      <td>13,41</td>\n",
              "      <td>9,67</td>\n",
              "      <td>8030.0</td>\n",
              "      <td>69,44</td>\n",
              "      <td>68,22</td>\n",
              "      <td>62,71</td>\n",
              "      <td>86,71</td>\n",
              "      <td>6,43</td>\n",
              "      <td>69,62</td>\n",
              "      <td>3487157.0</td>\n",
              "      <td>0.0</td>\n",
              "    </tr>\n",
              "    <tr>\n",
              "      <th>4</th>\n",
              "      <td>ACEH</td>\n",
              "      <td>Aceh Timur</td>\n",
              "      <td>14,45</td>\n",
              "      <td>8,21</td>\n",
              "      <td>8577.0</td>\n",
              "      <td>67,83</td>\n",
              "      <td>68,74</td>\n",
              "      <td>66,75</td>\n",
              "      <td>83,16</td>\n",
              "      <td>7,13</td>\n",
              "      <td>59,48</td>\n",
              "      <td>8433526.0</td>\n",
              "      <td>0.0</td>\n",
              "    </tr>\n",
              "    <tr>\n",
              "      <th>...</th>\n",
              "      <td>...</td>\n",
              "      <td>...</td>\n",
              "      <td>...</td>\n",
              "      <td>...</td>\n",
              "      <td>...</td>\n",
              "      <td>...</td>\n",
              "      <td>...</td>\n",
              "      <td>...</td>\n",
              "      <td>...</td>\n",
              "      <td>...</td>\n",
              "      <td>...</td>\n",
              "      <td>...</td>\n",
              "      <td>...</td>\n",
              "    </tr>\n",
              "    <tr>\n",
              "      <th>994</th>\n",
              "      <td>NaN</td>\n",
              "      <td>NaN</td>\n",
              "      <td>NaN</td>\n",
              "      <td>NaN</td>\n",
              "      <td>NaN</td>\n",
              "      <td>NaN</td>\n",
              "      <td>NaN</td>\n",
              "      <td>NaN</td>\n",
              "      <td>NaN</td>\n",
              "      <td>NaN</td>\n",
              "      <td>NaN</td>\n",
              "      <td>NaN</td>\n",
              "      <td>NaN</td>\n",
              "    </tr>\n",
              "    <tr>\n",
              "      <th>995</th>\n",
              "      <td>NaN</td>\n",
              "      <td>NaN</td>\n",
              "      <td>NaN</td>\n",
              "      <td>NaN</td>\n",
              "      <td>NaN</td>\n",
              "      <td>NaN</td>\n",
              "      <td>NaN</td>\n",
              "      <td>NaN</td>\n",
              "      <td>NaN</td>\n",
              "      <td>NaN</td>\n",
              "      <td>NaN</td>\n",
              "      <td>NaN</td>\n",
              "      <td>NaN</td>\n",
              "    </tr>\n",
              "    <tr>\n",
              "      <th>996</th>\n",
              "      <td>NaN</td>\n",
              "      <td>NaN</td>\n",
              "      <td>NaN</td>\n",
              "      <td>NaN</td>\n",
              "      <td>NaN</td>\n",
              "      <td>NaN</td>\n",
              "      <td>NaN</td>\n",
              "      <td>NaN</td>\n",
              "      <td>NaN</td>\n",
              "      <td>NaN</td>\n",
              "      <td>NaN</td>\n",
              "      <td>NaN</td>\n",
              "      <td>NaN</td>\n",
              "    </tr>\n",
              "    <tr>\n",
              "      <th>997</th>\n",
              "      <td>NaN</td>\n",
              "      <td>NaN</td>\n",
              "      <td>NaN</td>\n",
              "      <td>NaN</td>\n",
              "      <td>NaN</td>\n",
              "      <td>NaN</td>\n",
              "      <td>NaN</td>\n",
              "      <td>NaN</td>\n",
              "      <td>NaN</td>\n",
              "      <td>NaN</td>\n",
              "      <td>NaN</td>\n",
              "      <td>NaN</td>\n",
              "      <td>NaN</td>\n",
              "    </tr>\n",
              "    <tr>\n",
              "      <th>998</th>\n",
              "      <td>NaN</td>\n",
              "      <td>NaN</td>\n",
              "      <td>NaN</td>\n",
              "      <td>NaN</td>\n",
              "      <td>NaN</td>\n",
              "      <td>NaN</td>\n",
              "      <td>NaN</td>\n",
              "      <td>NaN</td>\n",
              "      <td>NaN</td>\n",
              "      <td>NaN</td>\n",
              "      <td>NaN</td>\n",
              "      <td>NaN</td>\n",
              "      <td>NaN</td>\n",
              "    </tr>\n",
              "  </tbody>\n",
              "</table>\n",
              "<p>999 rows × 13 columns</p>\n",
              "</div>\n",
              "    <div class=\"colab-df-buttons\">\n",
              "\n",
              "  <div class=\"colab-df-container\">\n",
              "    <button class=\"colab-df-convert\" onclick=\"convertToInteractive('df-ed1ca7bd-2342-4722-915e-1a0cfc9405cc')\"\n",
              "            title=\"Convert this dataframe to an interactive table.\"\n",
              "            style=\"display:none;\">\n",
              "\n",
              "  <svg xmlns=\"http://www.w3.org/2000/svg\" height=\"24px\" viewBox=\"0 -960 960 960\">\n",
              "    <path d=\"M120-120v-720h720v720H120Zm60-500h600v-160H180v160Zm220 220h160v-160H400v160Zm0 220h160v-160H400v160ZM180-400h160v-160H180v160Zm440 0h160v-160H620v160ZM180-180h160v-160H180v160Zm440 0h160v-160H620v160Z\"/>\n",
              "  </svg>\n",
              "    </button>\n",
              "\n",
              "  <style>\n",
              "    .colab-df-container {\n",
              "      display:flex;\n",
              "      gap: 12px;\n",
              "    }\n",
              "\n",
              "    .colab-df-convert {\n",
              "      background-color: #E8F0FE;\n",
              "      border: none;\n",
              "      border-radius: 50%;\n",
              "      cursor: pointer;\n",
              "      display: none;\n",
              "      fill: #1967D2;\n",
              "      height: 32px;\n",
              "      padding: 0 0 0 0;\n",
              "      width: 32px;\n",
              "    }\n",
              "\n",
              "    .colab-df-convert:hover {\n",
              "      background-color: #E2EBFA;\n",
              "      box-shadow: 0px 1px 2px rgba(60, 64, 67, 0.3), 0px 1px 3px 1px rgba(60, 64, 67, 0.15);\n",
              "      fill: #174EA6;\n",
              "    }\n",
              "\n",
              "    .colab-df-buttons div {\n",
              "      margin-bottom: 4px;\n",
              "    }\n",
              "\n",
              "    [theme=dark] .colab-df-convert {\n",
              "      background-color: #3B4455;\n",
              "      fill: #D2E3FC;\n",
              "    }\n",
              "\n",
              "    [theme=dark] .colab-df-convert:hover {\n",
              "      background-color: #434B5C;\n",
              "      box-shadow: 0px 1px 3px 1px rgba(0, 0, 0, 0.15);\n",
              "      filter: drop-shadow(0px 1px 2px rgba(0, 0, 0, 0.3));\n",
              "      fill: #FFFFFF;\n",
              "    }\n",
              "  </style>\n",
              "\n",
              "    <script>\n",
              "      const buttonEl =\n",
              "        document.querySelector('#df-ed1ca7bd-2342-4722-915e-1a0cfc9405cc button.colab-df-convert');\n",
              "      buttonEl.style.display =\n",
              "        google.colab.kernel.accessAllowed ? 'block' : 'none';\n",
              "\n",
              "      async function convertToInteractive(key) {\n",
              "        const element = document.querySelector('#df-ed1ca7bd-2342-4722-915e-1a0cfc9405cc');\n",
              "        const dataTable =\n",
              "          await google.colab.kernel.invokeFunction('convertToInteractive',\n",
              "                                                    [key], {});\n",
              "        if (!dataTable) return;\n",
              "\n",
              "        const docLinkHtml = 'Like what you see? Visit the ' +\n",
              "          '<a target=\"_blank\" href=https://colab.research.google.com/notebooks/data_table.ipynb>data table notebook</a>'\n",
              "          + ' to learn more about interactive tables.';\n",
              "        element.innerHTML = '';\n",
              "        dataTable['output_type'] = 'display_data';\n",
              "        await google.colab.output.renderOutput(dataTable, element);\n",
              "        const docLink = document.createElement('div');\n",
              "        docLink.innerHTML = docLinkHtml;\n",
              "        element.appendChild(docLink);\n",
              "      }\n",
              "    </script>\n",
              "  </div>\n",
              "\n",
              "\n",
              "<div id=\"df-a29188d1-30a9-42a2-a382-86d2c7a10d70\">\n",
              "  <button class=\"colab-df-quickchart\" onclick=\"quickchart('df-a29188d1-30a9-42a2-a382-86d2c7a10d70')\"\n",
              "            title=\"Suggest charts\"\n",
              "            style=\"display:none;\">\n",
              "\n",
              "<svg xmlns=\"http://www.w3.org/2000/svg\" height=\"24px\"viewBox=\"0 0 24 24\"\n",
              "     width=\"24px\">\n",
              "    <g>\n",
              "        <path d=\"M19 3H5c-1.1 0-2 .9-2 2v14c0 1.1.9 2 2 2h14c1.1 0 2-.9 2-2V5c0-1.1-.9-2-2-2zM9 17H7v-7h2v7zm4 0h-2V7h2v10zm4 0h-2v-4h2v4z\"/>\n",
              "    </g>\n",
              "</svg>\n",
              "  </button>\n",
              "\n",
              "<style>\n",
              "  .colab-df-quickchart {\n",
              "      --bg-color: #E8F0FE;\n",
              "      --fill-color: #1967D2;\n",
              "      --hover-bg-color: #E2EBFA;\n",
              "      --hover-fill-color: #174EA6;\n",
              "      --disabled-fill-color: #AAA;\n",
              "      --disabled-bg-color: #DDD;\n",
              "  }\n",
              "\n",
              "  [theme=dark] .colab-df-quickchart {\n",
              "      --bg-color: #3B4455;\n",
              "      --fill-color: #D2E3FC;\n",
              "      --hover-bg-color: #434B5C;\n",
              "      --hover-fill-color: #FFFFFF;\n",
              "      --disabled-bg-color: #3B4455;\n",
              "      --disabled-fill-color: #666;\n",
              "  }\n",
              "\n",
              "  .colab-df-quickchart {\n",
              "    background-color: var(--bg-color);\n",
              "    border: none;\n",
              "    border-radius: 50%;\n",
              "    cursor: pointer;\n",
              "    display: none;\n",
              "    fill: var(--fill-color);\n",
              "    height: 32px;\n",
              "    padding: 0;\n",
              "    width: 32px;\n",
              "  }\n",
              "\n",
              "  .colab-df-quickchart:hover {\n",
              "    background-color: var(--hover-bg-color);\n",
              "    box-shadow: 0 1px 2px rgba(60, 64, 67, 0.3), 0 1px 3px 1px rgba(60, 64, 67, 0.15);\n",
              "    fill: var(--button-hover-fill-color);\n",
              "  }\n",
              "\n",
              "  .colab-df-quickchart-complete:disabled,\n",
              "  .colab-df-quickchart-complete:disabled:hover {\n",
              "    background-color: var(--disabled-bg-color);\n",
              "    fill: var(--disabled-fill-color);\n",
              "    box-shadow: none;\n",
              "  }\n",
              "\n",
              "  .colab-df-spinner {\n",
              "    border: 2px solid var(--fill-color);\n",
              "    border-color: transparent;\n",
              "    border-bottom-color: var(--fill-color);\n",
              "    animation:\n",
              "      spin 1s steps(1) infinite;\n",
              "  }\n",
              "\n",
              "  @keyframes spin {\n",
              "    0% {\n",
              "      border-color: transparent;\n",
              "      border-bottom-color: var(--fill-color);\n",
              "      border-left-color: var(--fill-color);\n",
              "    }\n",
              "    20% {\n",
              "      border-color: transparent;\n",
              "      border-left-color: var(--fill-color);\n",
              "      border-top-color: var(--fill-color);\n",
              "    }\n",
              "    30% {\n",
              "      border-color: transparent;\n",
              "      border-left-color: var(--fill-color);\n",
              "      border-top-color: var(--fill-color);\n",
              "      border-right-color: var(--fill-color);\n",
              "    }\n",
              "    40% {\n",
              "      border-color: transparent;\n",
              "      border-right-color: var(--fill-color);\n",
              "      border-top-color: var(--fill-color);\n",
              "    }\n",
              "    60% {\n",
              "      border-color: transparent;\n",
              "      border-right-color: var(--fill-color);\n",
              "    }\n",
              "    80% {\n",
              "      border-color: transparent;\n",
              "      border-right-color: var(--fill-color);\n",
              "      border-bottom-color: var(--fill-color);\n",
              "    }\n",
              "    90% {\n",
              "      border-color: transparent;\n",
              "      border-bottom-color: var(--fill-color);\n",
              "    }\n",
              "  }\n",
              "</style>\n",
              "\n",
              "  <script>\n",
              "    async function quickchart(key) {\n",
              "      const quickchartButtonEl =\n",
              "        document.querySelector('#' + key + ' button');\n",
              "      quickchartButtonEl.disabled = true;  // To prevent multiple clicks.\n",
              "      quickchartButtonEl.classList.add('colab-df-spinner');\n",
              "      try {\n",
              "        const charts = await google.colab.kernel.invokeFunction(\n",
              "            'suggestCharts', [key], {});\n",
              "      } catch (error) {\n",
              "        console.error('Error during call to suggestCharts:', error);\n",
              "      }\n",
              "      quickchartButtonEl.classList.remove('colab-df-spinner');\n",
              "      quickchartButtonEl.classList.add('colab-df-quickchart-complete');\n",
              "    }\n",
              "    (() => {\n",
              "      let quickchartButtonEl =\n",
              "        document.querySelector('#df-a29188d1-30a9-42a2-a382-86d2c7a10d70 button');\n",
              "      quickchartButtonEl.style.display =\n",
              "        google.colab.kernel.accessAllowed ? 'block' : 'none';\n",
              "    })();\n",
              "  </script>\n",
              "</div>\n",
              "\n",
              "  <div id=\"id_11caf4c9-d31c-4be8-a8b0-12f181faf272\">\n",
              "    <style>\n",
              "      .colab-df-generate {\n",
              "        background-color: #E8F0FE;\n",
              "        border: none;\n",
              "        border-radius: 50%;\n",
              "        cursor: pointer;\n",
              "        display: none;\n",
              "        fill: #1967D2;\n",
              "        height: 32px;\n",
              "        padding: 0 0 0 0;\n",
              "        width: 32px;\n",
              "      }\n",
              "\n",
              "      .colab-df-generate:hover {\n",
              "        background-color: #E2EBFA;\n",
              "        box-shadow: 0px 1px 2px rgba(60, 64, 67, 0.3), 0px 1px 3px 1px rgba(60, 64, 67, 0.15);\n",
              "        fill: #174EA6;\n",
              "      }\n",
              "\n",
              "      [theme=dark] .colab-df-generate {\n",
              "        background-color: #3B4455;\n",
              "        fill: #D2E3FC;\n",
              "      }\n",
              "\n",
              "      [theme=dark] .colab-df-generate:hover {\n",
              "        background-color: #434B5C;\n",
              "        box-shadow: 0px 1px 3px 1px rgba(0, 0, 0, 0.15);\n",
              "        filter: drop-shadow(0px 1px 2px rgba(0, 0, 0, 0.3));\n",
              "        fill: #FFFFFF;\n",
              "      }\n",
              "    </style>\n",
              "    <button class=\"colab-df-generate\" onclick=\"generateWithVariable('df')\"\n",
              "            title=\"Generate code using this dataframe.\"\n",
              "            style=\"display:none;\">\n",
              "\n",
              "  <svg xmlns=\"http://www.w3.org/2000/svg\" height=\"24px\"viewBox=\"0 0 24 24\"\n",
              "       width=\"24px\">\n",
              "    <path d=\"M7,19H8.4L18.45,9,17,7.55,7,17.6ZM5,21V16.75L18.45,3.32a2,2,0,0,1,2.83,0l1.4,1.43a1.91,1.91,0,0,1,.58,1.4,1.91,1.91,0,0,1-.58,1.4L9.25,21ZM18.45,9,17,7.55Zm-12,3A5.31,5.31,0,0,0,4.9,8.1,5.31,5.31,0,0,0,1,6.5,5.31,5.31,0,0,0,4.9,4.9,5.31,5.31,0,0,0,6.5,1,5.31,5.31,0,0,0,8.1,4.9,5.31,5.31,0,0,0,12,6.5,5.46,5.46,0,0,0,6.5,12Z\"/>\n",
              "  </svg>\n",
              "    </button>\n",
              "    <script>\n",
              "      (() => {\n",
              "      const buttonEl =\n",
              "        document.querySelector('#id_11caf4c9-d31c-4be8-a8b0-12f181faf272 button.colab-df-generate');\n",
              "      buttonEl.style.display =\n",
              "        google.colab.kernel.accessAllowed ? 'block' : 'none';\n",
              "\n",
              "      buttonEl.onclick = () => {\n",
              "        google.colab.notebook.generateWithVariable('df');\n",
              "      }\n",
              "      })();\n",
              "    </script>\n",
              "  </div>\n",
              "\n",
              "    </div>\n",
              "  </div>\n"
            ],
            "application/vnd.google.colaboratory.intrinsic+json": {
              "type": "dataframe",
              "variable_name": "df",
              "summary": "{\n  \"name\": \"df\",\n  \"rows\": 999,\n  \"fields\": [\n    {\n      \"column\": \"Provinsi\",\n      \"properties\": {\n        \"dtype\": \"category\",\n        \"num_unique_values\": 34,\n        \"samples\": [\n          \"BANTEN\",\n          \"KALIMANTAN BARAT\",\n          \"SULAWESI TENGGARA\"\n        ],\n        \"semantic_type\": \"\",\n        \"description\": \"\"\n      }\n    },\n    {\n      \"column\": \"Kab/Kota\",\n      \"properties\": {\n        \"dtype\": \"string\",\n        \"num_unique_values\": 514,\n        \"samples\": [\n          \"Manggarai\",\n          \"Yahukimo\",\n          \"Gorontalo\"\n        ],\n        \"semantic_type\": \"\",\n        \"description\": \"\"\n      }\n    },\n    {\n      \"column\": \"Persentase Penduduk Miskin (P0) Menurut Kabupaten/Kota (Persen)\",\n      \"properties\": {\n        \"dtype\": \"category\",\n        \"num_unique_values\": 452,\n        \"samples\": [\n          \"5,91\",\n          \"8,3\",\n          \"12,85\"\n        ],\n        \"semantic_type\": \"\",\n        \"description\": \"\"\n      }\n    },\n    {\n      \"column\": \"Rata-rata Lama Sekolah Penduduk 15+ (Tahun)\",\n      \"properties\": {\n        \"dtype\": \"category\",\n        \"num_unique_values\": 377,\n        \"samples\": [\n          \"10,91\",\n          \"7,12\",\n          \"6,02\"\n        ],\n        \"semantic_type\": \"\",\n        \"description\": \"\"\n      }\n    },\n    {\n      \"column\": \"Pengeluaran per Kapita Disesuaikan (Ribu Rupiah/Orang/Tahun)\",\n      \"properties\": {\n        \"dtype\": \"number\",\n        \"std\": 2717.144185738409,\n        \"min\": 3976.0,\n        \"max\": 23888.0,\n        \"num_unique_values\": 498,\n        \"samples\": [\n          5708.0,\n          13317.0,\n          9410.0\n        ],\n        \"semantic_type\": \"\",\n        \"description\": \"\"\n      }\n    },\n    {\n      \"column\": \"Indeks Pembangunan Manusia\",\n      \"properties\": {\n        \"dtype\": \"category\",\n        \"num_unique_values\": 452,\n        \"samples\": [\n          \"65,87\",\n          \"70,83\",\n          \"80,59\"\n        ],\n        \"semantic_type\": \"\",\n        \"description\": \"\"\n      }\n    },\n    {\n      \"column\": \"Umur Harapan Hidup (Tahun)\",\n      \"properties\": {\n        \"dtype\": \"category\",\n        \"num_unique_values\": 411,\n        \"samples\": [\n          \"73,8\",\n          \"71,58\",\n          \"70,38\"\n        ],\n        \"semantic_type\": \"\",\n        \"description\": \"\"\n      }\n    },\n    {\n      \"column\": \"Persentase rumah tangga yang memiliki akses terhadap sanitasi layak\",\n      \"properties\": {\n        \"dtype\": \"category\",\n        \"num_unique_values\": 487,\n        \"samples\": [\n          \"89,49\",\n          \"91,56\",\n          \"90,56\"\n        ],\n        \"semantic_type\": \"\",\n        \"description\": \"\"\n      }\n    },\n    {\n      \"column\": \"Persentase rumah tangga yang memiliki akses terhadap air minum layak\",\n      \"properties\": {\n        \"dtype\": \"category\",\n        \"num_unique_values\": 465,\n        \"samples\": [\n          \"74,11\",\n          \"85,78\",\n          \"91,43\"\n        ],\n        \"semantic_type\": \"\",\n        \"description\": \"\"\n      }\n    },\n    {\n      \"column\": \"Tingkat Pengangguran Terbuka\",\n      \"properties\": {\n        \"dtype\": \"category\",\n        \"num_unique_values\": 373,\n        \"samples\": [\n          \"4,56\",\n          \"1,95\",\n          \"3,47\"\n        ],\n        \"semantic_type\": \"\",\n        \"description\": \"\"\n      }\n    },\n    {\n      \"column\": \"Tingkat Partisipasi Angkatan Kerja\",\n      \"properties\": {\n        \"dtype\": \"object\",\n        \"num_unique_values\": 448,\n        \"samples\": [\n          \" 77,57 \",\n          \" 70,16 \",\n          \" 70,13 \"\n        ],\n        \"semantic_type\": \"\",\n        \"description\": \"\"\n      }\n    },\n    {\n      \"column\": \"PDRB atas Dasar Harga Konstan menurut Pengeluaran (Rupiah)\",\n      \"properties\": {\n        \"dtype\": \"number\",\n        \"std\": 47904920.44381927,\n        \"min\": 147485.0,\n        \"max\": 460081046.0,\n        \"num_unique_values\": 514,\n        \"samples\": [\n          3025880.0,\n          1556231.0,\n          9082312.0\n        ],\n        \"semantic_type\": \"\",\n        \"description\": \"\"\n      }\n    },\n    {\n      \"column\": \"Klasifikasi Kemiskinan\",\n      \"properties\": {\n        \"dtype\": \"number\",\n        \"std\": 0.3260054197106571,\n        \"min\": 0.0,\n        \"max\": 1.0,\n        \"num_unique_values\": 2,\n        \"samples\": [\n          1.0,\n          0.0\n        ],\n        \"semantic_type\": \"\",\n        \"description\": \"\"\n      }\n    }\n  ]\n}"
            }
          },
          "metadata": {},
          "execution_count": 146
        }
      ]
    },
    {
      "cell_type": "markdown",
      "source": [
        "##Exploratory Data Analysis (EDA)"
      ],
      "metadata": {
        "id": "EclOZf8VYbAr"
      }
    },
    {
      "cell_type": "code",
      "source": [
        "df.isnull().sum()"
      ],
      "metadata": {
        "colab": {
          "base_uri": "https://localhost:8080/",
          "height": 486
        },
        "id": "lkap37rGKV9v",
        "outputId": "795843a7-b5d1-4df8-d9d0-fbe5aaf73d71"
      },
      "execution_count": 147,
      "outputs": [
        {
          "output_type": "execute_result",
          "data": {
            "text/plain": [
              "Provinsi                                                                485\n",
              "Kab/Kota                                                                485\n",
              "Persentase Penduduk Miskin (P0) Menurut Kabupaten/Kota (Persen)         485\n",
              "Rata-rata Lama Sekolah Penduduk 15+ (Tahun)                             485\n",
              "Pengeluaran per Kapita Disesuaikan (Ribu Rupiah/Orang/Tahun)            485\n",
              "Indeks Pembangunan Manusia                                              485\n",
              "Umur Harapan Hidup (Tahun)                                              485\n",
              "Persentase rumah tangga yang memiliki akses terhadap sanitasi layak     485\n",
              "Persentase rumah tangga yang memiliki akses terhadap air minum layak    485\n",
              "Tingkat Pengangguran Terbuka                                            485\n",
              "Tingkat Partisipasi Angkatan Kerja                                      485\n",
              "PDRB atas Dasar Harga Konstan menurut Pengeluaran (Rupiah)              485\n",
              "Klasifikasi Kemiskinan                                                  485\n",
              "dtype: int64"
            ],
            "text/html": [
              "<div>\n",
              "<style scoped>\n",
              "    .dataframe tbody tr th:only-of-type {\n",
              "        vertical-align: middle;\n",
              "    }\n",
              "\n",
              "    .dataframe tbody tr th {\n",
              "        vertical-align: top;\n",
              "    }\n",
              "\n",
              "    .dataframe thead th {\n",
              "        text-align: right;\n",
              "    }\n",
              "</style>\n",
              "<table border=\"1\" class=\"dataframe\">\n",
              "  <thead>\n",
              "    <tr style=\"text-align: right;\">\n",
              "      <th></th>\n",
              "      <th>0</th>\n",
              "    </tr>\n",
              "  </thead>\n",
              "  <tbody>\n",
              "    <tr>\n",
              "      <th>Provinsi</th>\n",
              "      <td>485</td>\n",
              "    </tr>\n",
              "    <tr>\n",
              "      <th>Kab/Kota</th>\n",
              "      <td>485</td>\n",
              "    </tr>\n",
              "    <tr>\n",
              "      <th>Persentase Penduduk Miskin (P0) Menurut Kabupaten/Kota (Persen)</th>\n",
              "      <td>485</td>\n",
              "    </tr>\n",
              "    <tr>\n",
              "      <th>Rata-rata Lama Sekolah Penduduk 15+ (Tahun)</th>\n",
              "      <td>485</td>\n",
              "    </tr>\n",
              "    <tr>\n",
              "      <th>Pengeluaran per Kapita Disesuaikan (Ribu Rupiah/Orang/Tahun)</th>\n",
              "      <td>485</td>\n",
              "    </tr>\n",
              "    <tr>\n",
              "      <th>Indeks Pembangunan Manusia</th>\n",
              "      <td>485</td>\n",
              "    </tr>\n",
              "    <tr>\n",
              "      <th>Umur Harapan Hidup (Tahun)</th>\n",
              "      <td>485</td>\n",
              "    </tr>\n",
              "    <tr>\n",
              "      <th>Persentase rumah tangga yang memiliki akses terhadap sanitasi layak</th>\n",
              "      <td>485</td>\n",
              "    </tr>\n",
              "    <tr>\n",
              "      <th>Persentase rumah tangga yang memiliki akses terhadap air minum layak</th>\n",
              "      <td>485</td>\n",
              "    </tr>\n",
              "    <tr>\n",
              "      <th>Tingkat Pengangguran Terbuka</th>\n",
              "      <td>485</td>\n",
              "    </tr>\n",
              "    <tr>\n",
              "      <th>Tingkat Partisipasi Angkatan Kerja</th>\n",
              "      <td>485</td>\n",
              "    </tr>\n",
              "    <tr>\n",
              "      <th>PDRB atas Dasar Harga Konstan menurut Pengeluaran (Rupiah)</th>\n",
              "      <td>485</td>\n",
              "    </tr>\n",
              "    <tr>\n",
              "      <th>Klasifikasi Kemiskinan</th>\n",
              "      <td>485</td>\n",
              "    </tr>\n",
              "  </tbody>\n",
              "</table>\n",
              "</div><br><label><b>dtype:</b> int64</label>"
            ]
          },
          "metadata": {},
          "execution_count": 147
        }
      ]
    },
    {
      "cell_type": "code",
      "source": [
        "df.dropna(inplace=True)"
      ],
      "metadata": {
        "id": "VSH3bE904itz"
      },
      "execution_count": 148,
      "outputs": []
    },
    {
      "cell_type": "code",
      "source": [
        "df.nunique()"
      ],
      "metadata": {
        "colab": {
          "base_uri": "https://localhost:8080/",
          "height": 486
        },
        "id": "jl7OD8c-KdNV",
        "outputId": "b0bd3f89-df02-4872-c2b6-4fb20b07faa9"
      },
      "execution_count": 149,
      "outputs": [
        {
          "output_type": "execute_result",
          "data": {
            "text/plain": [
              "Provinsi                                                                 34\n",
              "Kab/Kota                                                                514\n",
              "Persentase Penduduk Miskin (P0) Menurut Kabupaten/Kota (Persen)         452\n",
              "Rata-rata Lama Sekolah Penduduk 15+ (Tahun)                             377\n",
              "Pengeluaran per Kapita Disesuaikan (Ribu Rupiah/Orang/Tahun)            498\n",
              "Indeks Pembangunan Manusia                                              452\n",
              "Umur Harapan Hidup (Tahun)                                              411\n",
              "Persentase rumah tangga yang memiliki akses terhadap sanitasi layak     487\n",
              "Persentase rumah tangga yang memiliki akses terhadap air minum layak    465\n",
              "Tingkat Pengangguran Terbuka                                            373\n",
              "Tingkat Partisipasi Angkatan Kerja                                      448\n",
              "PDRB atas Dasar Harga Konstan menurut Pengeluaran (Rupiah)              514\n",
              "Klasifikasi Kemiskinan                                                    2\n",
              "dtype: int64"
            ],
            "text/html": [
              "<div>\n",
              "<style scoped>\n",
              "    .dataframe tbody tr th:only-of-type {\n",
              "        vertical-align: middle;\n",
              "    }\n",
              "\n",
              "    .dataframe tbody tr th {\n",
              "        vertical-align: top;\n",
              "    }\n",
              "\n",
              "    .dataframe thead th {\n",
              "        text-align: right;\n",
              "    }\n",
              "</style>\n",
              "<table border=\"1\" class=\"dataframe\">\n",
              "  <thead>\n",
              "    <tr style=\"text-align: right;\">\n",
              "      <th></th>\n",
              "      <th>0</th>\n",
              "    </tr>\n",
              "  </thead>\n",
              "  <tbody>\n",
              "    <tr>\n",
              "      <th>Provinsi</th>\n",
              "      <td>34</td>\n",
              "    </tr>\n",
              "    <tr>\n",
              "      <th>Kab/Kota</th>\n",
              "      <td>514</td>\n",
              "    </tr>\n",
              "    <tr>\n",
              "      <th>Persentase Penduduk Miskin (P0) Menurut Kabupaten/Kota (Persen)</th>\n",
              "      <td>452</td>\n",
              "    </tr>\n",
              "    <tr>\n",
              "      <th>Rata-rata Lama Sekolah Penduduk 15+ (Tahun)</th>\n",
              "      <td>377</td>\n",
              "    </tr>\n",
              "    <tr>\n",
              "      <th>Pengeluaran per Kapita Disesuaikan (Ribu Rupiah/Orang/Tahun)</th>\n",
              "      <td>498</td>\n",
              "    </tr>\n",
              "    <tr>\n",
              "      <th>Indeks Pembangunan Manusia</th>\n",
              "      <td>452</td>\n",
              "    </tr>\n",
              "    <tr>\n",
              "      <th>Umur Harapan Hidup (Tahun)</th>\n",
              "      <td>411</td>\n",
              "    </tr>\n",
              "    <tr>\n",
              "      <th>Persentase rumah tangga yang memiliki akses terhadap sanitasi layak</th>\n",
              "      <td>487</td>\n",
              "    </tr>\n",
              "    <tr>\n",
              "      <th>Persentase rumah tangga yang memiliki akses terhadap air minum layak</th>\n",
              "      <td>465</td>\n",
              "    </tr>\n",
              "    <tr>\n",
              "      <th>Tingkat Pengangguran Terbuka</th>\n",
              "      <td>373</td>\n",
              "    </tr>\n",
              "    <tr>\n",
              "      <th>Tingkat Partisipasi Angkatan Kerja</th>\n",
              "      <td>448</td>\n",
              "    </tr>\n",
              "    <tr>\n",
              "      <th>PDRB atas Dasar Harga Konstan menurut Pengeluaran (Rupiah)</th>\n",
              "      <td>514</td>\n",
              "    </tr>\n",
              "    <tr>\n",
              "      <th>Klasifikasi Kemiskinan</th>\n",
              "      <td>2</td>\n",
              "    </tr>\n",
              "  </tbody>\n",
              "</table>\n",
              "</div><br><label><b>dtype:</b> int64</label>"
            ]
          },
          "metadata": {},
          "execution_count": 149
        }
      ]
    },
    {
      "cell_type": "code",
      "source": [
        "df.info()"
      ],
      "metadata": {
        "colab": {
          "base_uri": "https://localhost:8080/"
        },
        "id": "1G_0Z9qqKgaS",
        "outputId": "81cf6893-7d1b-4c33-9e37-6ecd4dea911f"
      },
      "execution_count": 150,
      "outputs": [
        {
          "output_type": "stream",
          "name": "stdout",
          "text": [
            "<class 'pandas.core.frame.DataFrame'>\n",
            "Index: 514 entries, 0 to 513\n",
            "Data columns (total 13 columns):\n",
            " #   Column                                                                Non-Null Count  Dtype  \n",
            "---  ------                                                                --------------  -----  \n",
            " 0   Provinsi                                                              514 non-null    object \n",
            " 1   Kab/Kota                                                              514 non-null    object \n",
            " 2   Persentase Penduduk Miskin (P0) Menurut Kabupaten/Kota (Persen)       514 non-null    object \n",
            " 3   Rata-rata Lama Sekolah Penduduk 15+ (Tahun)                           514 non-null    object \n",
            " 4   Pengeluaran per Kapita Disesuaikan (Ribu Rupiah/Orang/Tahun)          514 non-null    float64\n",
            " 5   Indeks Pembangunan Manusia                                            514 non-null    object \n",
            " 6   Umur Harapan Hidup (Tahun)                                            514 non-null    object \n",
            " 7   Persentase rumah tangga yang memiliki akses terhadap sanitasi layak   514 non-null    object \n",
            " 8   Persentase rumah tangga yang memiliki akses terhadap air minum layak  514 non-null    object \n",
            " 9   Tingkat Pengangguran Terbuka                                          514 non-null    object \n",
            " 10  Tingkat Partisipasi Angkatan Kerja                                    514 non-null    object \n",
            " 11  PDRB atas Dasar Harga Konstan menurut Pengeluaran (Rupiah)            514 non-null    float64\n",
            " 12  Klasifikasi Kemiskinan                                                514 non-null    float64\n",
            "dtypes: float64(3), object(10)\n",
            "memory usage: 56.2+ KB\n"
          ]
        }
      ]
    },
    {
      "cell_type": "code",
      "source": [
        "df.describe()"
      ],
      "metadata": {
        "colab": {
          "base_uri": "https://localhost:8080/",
          "height": 297
        },
        "id": "rdfmlk4VLm2n",
        "outputId": "b337fc63-daed-46ee-f849-c849518534d0"
      },
      "execution_count": 151,
      "outputs": [
        {
          "output_type": "execute_result",
          "data": {
            "text/plain": [
              "       Pengeluaran per Kapita Disesuaikan (Ribu Rupiah/Orang/Tahun)  \\\n",
              "count                                         514.000000              \n",
              "mean                                        10324.787938              \n",
              "std                                          2717.144186              \n",
              "min                                          3976.000000              \n",
              "25%                                          8574.000000              \n",
              "50%                                         10196.500000              \n",
              "75%                                         11719.000000              \n",
              "max                                         23888.000000              \n",
              "\n",
              "       PDRB atas Dasar Harga Konstan menurut Pengeluaran (Rupiah)  \\\n",
              "count                                       5.140000e+02            \n",
              "mean                                        2.196408e+07            \n",
              "std                                         4.790492e+07            \n",
              "min                                         1.474850e+05            \n",
              "25%                                         3.654292e+06            \n",
              "50%                                         8.814926e+06            \n",
              "75%                                         1.973510e+07            \n",
              "max                                         4.600810e+08            \n",
              "\n",
              "       Klasifikasi Kemiskinan  \n",
              "count              514.000000  \n",
              "mean                 0.120623  \n",
              "std                  0.326005  \n",
              "min                  0.000000  \n",
              "25%                  0.000000  \n",
              "50%                  0.000000  \n",
              "75%                  0.000000  \n",
              "max                  1.000000  "
            ],
            "text/html": [
              "\n",
              "  <div id=\"df-ebce1c98-9785-494e-9879-3f9c9350fccd\" class=\"colab-df-container\">\n",
              "    <div>\n",
              "<style scoped>\n",
              "    .dataframe tbody tr th:only-of-type {\n",
              "        vertical-align: middle;\n",
              "    }\n",
              "\n",
              "    .dataframe tbody tr th {\n",
              "        vertical-align: top;\n",
              "    }\n",
              "\n",
              "    .dataframe thead th {\n",
              "        text-align: right;\n",
              "    }\n",
              "</style>\n",
              "<table border=\"1\" class=\"dataframe\">\n",
              "  <thead>\n",
              "    <tr style=\"text-align: right;\">\n",
              "      <th></th>\n",
              "      <th>Pengeluaran per Kapita Disesuaikan (Ribu Rupiah/Orang/Tahun)</th>\n",
              "      <th>PDRB atas Dasar Harga Konstan menurut Pengeluaran (Rupiah)</th>\n",
              "      <th>Klasifikasi Kemiskinan</th>\n",
              "    </tr>\n",
              "  </thead>\n",
              "  <tbody>\n",
              "    <tr>\n",
              "      <th>count</th>\n",
              "      <td>514.000000</td>\n",
              "      <td>5.140000e+02</td>\n",
              "      <td>514.000000</td>\n",
              "    </tr>\n",
              "    <tr>\n",
              "      <th>mean</th>\n",
              "      <td>10324.787938</td>\n",
              "      <td>2.196408e+07</td>\n",
              "      <td>0.120623</td>\n",
              "    </tr>\n",
              "    <tr>\n",
              "      <th>std</th>\n",
              "      <td>2717.144186</td>\n",
              "      <td>4.790492e+07</td>\n",
              "      <td>0.326005</td>\n",
              "    </tr>\n",
              "    <tr>\n",
              "      <th>min</th>\n",
              "      <td>3976.000000</td>\n",
              "      <td>1.474850e+05</td>\n",
              "      <td>0.000000</td>\n",
              "    </tr>\n",
              "    <tr>\n",
              "      <th>25%</th>\n",
              "      <td>8574.000000</td>\n",
              "      <td>3.654292e+06</td>\n",
              "      <td>0.000000</td>\n",
              "    </tr>\n",
              "    <tr>\n",
              "      <th>50%</th>\n",
              "      <td>10196.500000</td>\n",
              "      <td>8.814926e+06</td>\n",
              "      <td>0.000000</td>\n",
              "    </tr>\n",
              "    <tr>\n",
              "      <th>75%</th>\n",
              "      <td>11719.000000</td>\n",
              "      <td>1.973510e+07</td>\n",
              "      <td>0.000000</td>\n",
              "    </tr>\n",
              "    <tr>\n",
              "      <th>max</th>\n",
              "      <td>23888.000000</td>\n",
              "      <td>4.600810e+08</td>\n",
              "      <td>1.000000</td>\n",
              "    </tr>\n",
              "  </tbody>\n",
              "</table>\n",
              "</div>\n",
              "    <div class=\"colab-df-buttons\">\n",
              "\n",
              "  <div class=\"colab-df-container\">\n",
              "    <button class=\"colab-df-convert\" onclick=\"convertToInteractive('df-ebce1c98-9785-494e-9879-3f9c9350fccd')\"\n",
              "            title=\"Convert this dataframe to an interactive table.\"\n",
              "            style=\"display:none;\">\n",
              "\n",
              "  <svg xmlns=\"http://www.w3.org/2000/svg\" height=\"24px\" viewBox=\"0 -960 960 960\">\n",
              "    <path d=\"M120-120v-720h720v720H120Zm60-500h600v-160H180v160Zm220 220h160v-160H400v160Zm0 220h160v-160H400v160ZM180-400h160v-160H180v160Zm440 0h160v-160H620v160ZM180-180h160v-160H180v160Zm440 0h160v-160H620v160Z\"/>\n",
              "  </svg>\n",
              "    </button>\n",
              "\n",
              "  <style>\n",
              "    .colab-df-container {\n",
              "      display:flex;\n",
              "      gap: 12px;\n",
              "    }\n",
              "\n",
              "    .colab-df-convert {\n",
              "      background-color: #E8F0FE;\n",
              "      border: none;\n",
              "      border-radius: 50%;\n",
              "      cursor: pointer;\n",
              "      display: none;\n",
              "      fill: #1967D2;\n",
              "      height: 32px;\n",
              "      padding: 0 0 0 0;\n",
              "      width: 32px;\n",
              "    }\n",
              "\n",
              "    .colab-df-convert:hover {\n",
              "      background-color: #E2EBFA;\n",
              "      box-shadow: 0px 1px 2px rgba(60, 64, 67, 0.3), 0px 1px 3px 1px rgba(60, 64, 67, 0.15);\n",
              "      fill: #174EA6;\n",
              "    }\n",
              "\n",
              "    .colab-df-buttons div {\n",
              "      margin-bottom: 4px;\n",
              "    }\n",
              "\n",
              "    [theme=dark] .colab-df-convert {\n",
              "      background-color: #3B4455;\n",
              "      fill: #D2E3FC;\n",
              "    }\n",
              "\n",
              "    [theme=dark] .colab-df-convert:hover {\n",
              "      background-color: #434B5C;\n",
              "      box-shadow: 0px 1px 3px 1px rgba(0, 0, 0, 0.15);\n",
              "      filter: drop-shadow(0px 1px 2px rgba(0, 0, 0, 0.3));\n",
              "      fill: #FFFFFF;\n",
              "    }\n",
              "  </style>\n",
              "\n",
              "    <script>\n",
              "      const buttonEl =\n",
              "        document.querySelector('#df-ebce1c98-9785-494e-9879-3f9c9350fccd button.colab-df-convert');\n",
              "      buttonEl.style.display =\n",
              "        google.colab.kernel.accessAllowed ? 'block' : 'none';\n",
              "\n",
              "      async function convertToInteractive(key) {\n",
              "        const element = document.querySelector('#df-ebce1c98-9785-494e-9879-3f9c9350fccd');\n",
              "        const dataTable =\n",
              "          await google.colab.kernel.invokeFunction('convertToInteractive',\n",
              "                                                    [key], {});\n",
              "        if (!dataTable) return;\n",
              "\n",
              "        const docLinkHtml = 'Like what you see? Visit the ' +\n",
              "          '<a target=\"_blank\" href=https://colab.research.google.com/notebooks/data_table.ipynb>data table notebook</a>'\n",
              "          + ' to learn more about interactive tables.';\n",
              "        element.innerHTML = '';\n",
              "        dataTable['output_type'] = 'display_data';\n",
              "        await google.colab.output.renderOutput(dataTable, element);\n",
              "        const docLink = document.createElement('div');\n",
              "        docLink.innerHTML = docLinkHtml;\n",
              "        element.appendChild(docLink);\n",
              "      }\n",
              "    </script>\n",
              "  </div>\n",
              "\n",
              "\n",
              "<div id=\"df-bbaf161d-02c8-4d7a-9e10-6890b6252916\">\n",
              "  <button class=\"colab-df-quickchart\" onclick=\"quickchart('df-bbaf161d-02c8-4d7a-9e10-6890b6252916')\"\n",
              "            title=\"Suggest charts\"\n",
              "            style=\"display:none;\">\n",
              "\n",
              "<svg xmlns=\"http://www.w3.org/2000/svg\" height=\"24px\"viewBox=\"0 0 24 24\"\n",
              "     width=\"24px\">\n",
              "    <g>\n",
              "        <path d=\"M19 3H5c-1.1 0-2 .9-2 2v14c0 1.1.9 2 2 2h14c1.1 0 2-.9 2-2V5c0-1.1-.9-2-2-2zM9 17H7v-7h2v7zm4 0h-2V7h2v10zm4 0h-2v-4h2v4z\"/>\n",
              "    </g>\n",
              "</svg>\n",
              "  </button>\n",
              "\n",
              "<style>\n",
              "  .colab-df-quickchart {\n",
              "      --bg-color: #E8F0FE;\n",
              "      --fill-color: #1967D2;\n",
              "      --hover-bg-color: #E2EBFA;\n",
              "      --hover-fill-color: #174EA6;\n",
              "      --disabled-fill-color: #AAA;\n",
              "      --disabled-bg-color: #DDD;\n",
              "  }\n",
              "\n",
              "  [theme=dark] .colab-df-quickchart {\n",
              "      --bg-color: #3B4455;\n",
              "      --fill-color: #D2E3FC;\n",
              "      --hover-bg-color: #434B5C;\n",
              "      --hover-fill-color: #FFFFFF;\n",
              "      --disabled-bg-color: #3B4455;\n",
              "      --disabled-fill-color: #666;\n",
              "  }\n",
              "\n",
              "  .colab-df-quickchart {\n",
              "    background-color: var(--bg-color);\n",
              "    border: none;\n",
              "    border-radius: 50%;\n",
              "    cursor: pointer;\n",
              "    display: none;\n",
              "    fill: var(--fill-color);\n",
              "    height: 32px;\n",
              "    padding: 0;\n",
              "    width: 32px;\n",
              "  }\n",
              "\n",
              "  .colab-df-quickchart:hover {\n",
              "    background-color: var(--hover-bg-color);\n",
              "    box-shadow: 0 1px 2px rgba(60, 64, 67, 0.3), 0 1px 3px 1px rgba(60, 64, 67, 0.15);\n",
              "    fill: var(--button-hover-fill-color);\n",
              "  }\n",
              "\n",
              "  .colab-df-quickchart-complete:disabled,\n",
              "  .colab-df-quickchart-complete:disabled:hover {\n",
              "    background-color: var(--disabled-bg-color);\n",
              "    fill: var(--disabled-fill-color);\n",
              "    box-shadow: none;\n",
              "  }\n",
              "\n",
              "  .colab-df-spinner {\n",
              "    border: 2px solid var(--fill-color);\n",
              "    border-color: transparent;\n",
              "    border-bottom-color: var(--fill-color);\n",
              "    animation:\n",
              "      spin 1s steps(1) infinite;\n",
              "  }\n",
              "\n",
              "  @keyframes spin {\n",
              "    0% {\n",
              "      border-color: transparent;\n",
              "      border-bottom-color: var(--fill-color);\n",
              "      border-left-color: var(--fill-color);\n",
              "    }\n",
              "    20% {\n",
              "      border-color: transparent;\n",
              "      border-left-color: var(--fill-color);\n",
              "      border-top-color: var(--fill-color);\n",
              "    }\n",
              "    30% {\n",
              "      border-color: transparent;\n",
              "      border-left-color: var(--fill-color);\n",
              "      border-top-color: var(--fill-color);\n",
              "      border-right-color: var(--fill-color);\n",
              "    }\n",
              "    40% {\n",
              "      border-color: transparent;\n",
              "      border-right-color: var(--fill-color);\n",
              "      border-top-color: var(--fill-color);\n",
              "    }\n",
              "    60% {\n",
              "      border-color: transparent;\n",
              "      border-right-color: var(--fill-color);\n",
              "    }\n",
              "    80% {\n",
              "      border-color: transparent;\n",
              "      border-right-color: var(--fill-color);\n",
              "      border-bottom-color: var(--fill-color);\n",
              "    }\n",
              "    90% {\n",
              "      border-color: transparent;\n",
              "      border-bottom-color: var(--fill-color);\n",
              "    }\n",
              "  }\n",
              "</style>\n",
              "\n",
              "  <script>\n",
              "    async function quickchart(key) {\n",
              "      const quickchartButtonEl =\n",
              "        document.querySelector('#' + key + ' button');\n",
              "      quickchartButtonEl.disabled = true;  // To prevent multiple clicks.\n",
              "      quickchartButtonEl.classList.add('colab-df-spinner');\n",
              "      try {\n",
              "        const charts = await google.colab.kernel.invokeFunction(\n",
              "            'suggestCharts', [key], {});\n",
              "      } catch (error) {\n",
              "        console.error('Error during call to suggestCharts:', error);\n",
              "      }\n",
              "      quickchartButtonEl.classList.remove('colab-df-spinner');\n",
              "      quickchartButtonEl.classList.add('colab-df-quickchart-complete');\n",
              "    }\n",
              "    (() => {\n",
              "      let quickchartButtonEl =\n",
              "        document.querySelector('#df-bbaf161d-02c8-4d7a-9e10-6890b6252916 button');\n",
              "      quickchartButtonEl.style.display =\n",
              "        google.colab.kernel.accessAllowed ? 'block' : 'none';\n",
              "    })();\n",
              "  </script>\n",
              "</div>\n",
              "\n",
              "    </div>\n",
              "  </div>\n"
            ],
            "application/vnd.google.colaboratory.intrinsic+json": {
              "type": "dataframe",
              "summary": "{\n  \"name\": \"df\",\n  \"rows\": 8,\n  \"fields\": [\n    {\n      \"column\": \"Pengeluaran per Kapita Disesuaikan (Ribu Rupiah/Orang/Tahun)\",\n      \"properties\": {\n        \"dtype\": \"number\",\n        \"std\": 7261.83448089352,\n        \"min\": 514.0,\n        \"max\": 23888.0,\n        \"num_unique_values\": 8,\n        \"samples\": [\n          10324.787937743191,\n          10196.5,\n          514.0\n        ],\n        \"semantic_type\": \"\",\n        \"description\": \"\"\n      }\n    },\n    {\n      \"column\": \"PDRB atas Dasar Harga Konstan menurut Pengeluaran (Rupiah)\",\n      \"properties\": {\n        \"dtype\": \"number\",\n        \"std\": 158298736.83027926,\n        \"min\": 514.0,\n        \"max\": 460081046.0,\n        \"num_unique_values\": 8,\n        \"samples\": [\n          21964077.48249027,\n          8814925.5,\n          514.0\n        ],\n        \"semantic_type\": \"\",\n        \"description\": \"\"\n      }\n    },\n    {\n      \"column\": \"Klasifikasi Kemiskinan\",\n      \"properties\": {\n        \"dtype\": \"number\",\n        \"std\": 181.65370018697584,\n        \"min\": 0.0,\n        \"max\": 514.0,\n        \"num_unique_values\": 5,\n        \"samples\": [\n          0.12062256809338522,\n          1.0,\n          0.3260054197106571\n        ],\n        \"semantic_type\": \"\",\n        \"description\": \"\"\n      }\n    }\n  ]\n}"
            }
          },
          "metadata": {},
          "execution_count": 151
        }
      ]
    },
    {
      "cell_type": "code",
      "source": [
        "df.duplicated().sum()"
      ],
      "metadata": {
        "colab": {
          "base_uri": "https://localhost:8080/"
        },
        "id": "6z0mCzbPLrnS",
        "outputId": "ed6b5a0c-67e4-438f-b12c-cb035cce1665"
      },
      "execution_count": 152,
      "outputs": [
        {
          "output_type": "execute_result",
          "data": {
            "text/plain": [
              "0"
            ]
          },
          "metadata": {},
          "execution_count": 152
        }
      ]
    },
    {
      "cell_type": "code",
      "source": [
        "df = df.drop_duplicates()"
      ],
      "metadata": {
        "id": "L7EuRU7DLzie"
      },
      "execution_count": 153,
      "outputs": []
    },
    {
      "cell_type": "code",
      "source": [
        "df.hist(figsize=(10,6), color='pink')"
      ],
      "metadata": {
        "colab": {
          "base_uri": "https://localhost:8080/",
          "height": 613
        },
        "id": "oXXPr5mNMLkN",
        "outputId": "8bf0228d-b6a6-4083-e7c2-dfce05986aba"
      },
      "execution_count": 154,
      "outputs": [
        {
          "output_type": "execute_result",
          "data": {
            "text/plain": [
              "array([[<Axes: title={'center': 'Pengeluaran per Kapita Disesuaikan (Ribu Rupiah/Orang/Tahun)'}>,\n",
              "        <Axes: title={'center': 'PDRB atas Dasar Harga Konstan menurut Pengeluaran (Rupiah)'}>],\n",
              "       [<Axes: title={'center': 'Klasifikasi Kemiskinan'}>, <Axes: >]],\n",
              "      dtype=object)"
            ]
          },
          "metadata": {},
          "execution_count": 154
        },
        {
          "output_type": "display_data",
          "data": {
            "text/plain": [
              "<Figure size 1000x600 with 4 Axes>"
            ],
            "image/png": "[encoded data removed]"
          },
          "metadata": {}
        }
      ]
    },
    {
      "cell_type": "code",
      "source": [
        "def boxplot(df):\n",
        "  var = ['Pengeluaran per Kapita Disesuaikan (Ribu Rupiah/Orang/Tahun)', 'PDRB atas Dasar Harga Konstan menurut Pengeluaran (Rupiah)']\n",
        "  fig, ax = plt.subplots(1, 2, figsize=(10,6))\n",
        "  fig.subplots_adjust(hspace=0.6, wspace=0.6)\n",
        "\n",
        "  for i, var in enumerate(var):\n",
        "    sns.boxplot(y=var, data=df, color='pink', ax=ax[i])\n",
        "    ax[i].set_title(var)\n",
        "    ax[i].set_ylabel(var, rotation=90)\n",
        "  plt.show()\n",
        "\n",
        "boxplot(df)"
      ],
      "metadata": {
        "colab": {
          "base_uri": "https://localhost:8080/",
          "height": 541
        },
        "id": "3qjawnHbMSup",
        "outputId": "655d02cb-faa9-4c4d-c7de-0fe0f80ed556"
      },
      "execution_count": 155,
      "outputs": [
        {
          "output_type": "display_data",
          "data": {
            "text/plain": [
              "<Figure size 1000x600 with 2 Axes>"
            ],
            "image/png": "[encoded data removed]"
          },
          "metadata": {}
        }
      ]
    },
    {
      "cell_type": "code",
      "source": [
        "plt.figure(figsize=(10,6))\n",
        "sns.countplot(x=df['Klasifikasi Kemiskinan'], color='pink')\n",
        "plt.show()"
      ],
      "metadata": {
        "colab": {
          "base_uri": "https://localhost:8080/",
          "height": 542
        },
        "id": "tR4tYurBR3t4",
        "outputId": "fc056485-33e1-4e24-fb71-222217dc68f6"
      },
      "execution_count": 156,
      "outputs": [
        {
          "output_type": "display_data",
          "data": {
            "text/plain": [
              "<Figure size 1000x600 with 1 Axes>"
            ],
            "image/png": "[encoded data removed]"
          },
          "metadata": {}
        }
      ]
    },
    {
      "cell_type": "markdown",
      "source": [
        "##Data Pre-processing"
      ],
      "metadata": {
        "id": "xwjeeFl5Yjym"
      }
    },
    {
      "cell_type": "code",
      "source": [
        "object_col = df.iloc[:, 2:-1].select_dtypes(['object']).columns.tolist()\n",
        "object_col\n",
        "\n",
        "for col in object_col:\n",
        "  df[col] = df[col].str.replace(',', '.').astype(float)"
      ],
      "metadata": {
        "id": "vQXkvcvHL_O2"
      },
      "execution_count": 157,
      "outputs": []
    },
    {
      "cell_type": "code",
      "source": [
        "df['Klasifikasi Kemiskinan'] = df['Klasifikasi Kemiskinan'].astype(int)"
      ],
      "metadata": {
        "id": "qQeKAol9NhE_"
      },
      "execution_count": 158,
      "outputs": []
    },
    {
      "cell_type": "code",
      "source": [
        "def remove_outliers_iqr(df, column):\n",
        "  Q1 = df[column].quantile(0.25)\n",
        "  Q3 = df[column].quantile(0.75)\n",
        "  IQR = Q3 - Q1\n",
        "  lower_bound = Q1 - 1.5 * IQR\n",
        "  upper_bound = Q3 + 1.5 * IQR\n",
        "  df_filtered = df[(df[column] >= lower_bound) & (df[column] <= upper_bound)]\n",
        "  return df_filtered\n",
        "\n",
        "\n",
        "for i in range(2):\n",
        "  df = remove_outliers_iqr(df, 'Pengeluaran per Kapita Disesuaikan (Ribu Rupiah/Orang/Tahun)')\n",
        "  df = remove_outliers_iqr(df, 'PDRB atas Dasar Harga Konstan menurut Pengeluaran (Rupiah)')\n",
        "\n",
        "boxplot(df)"
      ],
      "metadata": {
        "colab": {
          "base_uri": "https://localhost:8080/",
          "height": 541
        },
        "id": "nP10-AoqGWAb",
        "outputId": "7fa65f25-3948-44ea-b82c-2f9312ba4436"
      },
      "execution_count": 159,
      "outputs": [
        {
          "output_type": "display_data",
          "data": {
            "text/plain": [
              "<Figure size 1000x600 with 2 Axes>"
            ],
            "image/png": "[encoded data removed]"
          },
          "metadata": {}
        }
      ]
    },
    {
      "cell_type": "code",
      "source": [
        "x = df.drop(columns='Klasifikasi Kemiskinan')\n",
        "y = df['Klasifikasi Kemiskinan']"
      ],
      "metadata": {
        "id": "Zwit31s3bJGl"
      },
      "execution_count": 160,
      "outputs": []
    },
    {
      "cell_type": "code",
      "source": [
        "le = LabelEncoder()\n",
        "for var in x.select_dtypes(include=['object']).columns:\n",
        "    x[var] = le.fit_transform(x[var])"
      ],
      "metadata": {
        "id": "Cie8UUkA5fkB"
      },
      "execution_count": 161,
      "outputs": []
    },
    {
      "cell_type": "code",
      "source": [
        "fig = plt.figure(figsize=(10,6))\n",
        "sm = SMOTE()\n",
        "x, y = sm.fit_resample(x, y)\n",
        "sns.countplot(x=y, color='pink')\n",
        "plt.show()"
      ],
      "metadata": {
        "colab": {
          "base_uri": "https://localhost:8080/",
          "height": 542
        },
        "id": "AnaFuaN0bl_C",
        "outputId": "e91e30df-6518-4227-8a50-9a1e9bb53135"
      },
      "execution_count": 162,
      "outputs": [
        {
          "output_type": "display_data",
          "data": {
            "text/plain": [
              "<Figure size 1000x600 with 1 Axes>"
            ],
            "image/png": "[encoded data removed]"
          },
          "metadata": {}
        }
      ]
    },
    {
      "cell_type": "markdown",
      "source": [],
      "metadata": {
        "id": "3Yh3T5nmQjRb"
      }
    },
    {
      "cell_type": "code",
      "source": [
        "scaler = StandardScaler()\n",
        "x = scaler.fit_transform(x)"
      ],
      "metadata": {
        "id": "-odXIop-cnEF"
      },
      "execution_count": 163,
      "outputs": []
    },
    {
      "cell_type": "code",
      "source": [
        "x_train, x_test, y_train, y_test = train_test_split(x, y, random_state=42, test_size=0.2)"
      ],
      "metadata": {
        "id": "ThzEQpOucxIk"
      },
      "execution_count": 164,
      "outputs": []
    },
    {
      "cell_type": "code",
      "source": [
        "error_rate = []\n",
        "\n",
        "for i in range(1, 10):\n",
        "  if i % 2 != 0:\n",
        "    knn = KNeighborsClassifier(n_neighbors=i)\n",
        "    knn.fit(x_train, y_train)\n",
        "    pred_i = knn.predict(x_test)\n",
        "    error_rate.append(np.mean(pred_i != y_test))\n",
        "\n",
        "plt.figure(figsize=(10,6))\n",
        "plt.plot(range(1, 10, 2) , error_rate ,color=\"pink\", linestyle=\"dashed\", marker=\"o\",\n",
        "         markerfacecolor=\"red\", markersize=10)\n",
        "plt.title(\"Error Rate vs. K Value\")\n",
        "plt.xlabel(\"K\")\n",
        "plt.ylabel(\"Error Rate\")"
      ],
      "metadata": {
        "colab": {
          "base_uri": "https://localhost:8080/",
          "height": 581
        },
        "id": "B36F2QbMdBWn",
        "outputId": "4fd77572-a464-4275-c610-dc6110f962cb"
      },
      "execution_count": 165,
      "outputs": [
        {
          "output_type": "execute_result",
          "data": {
            "text/plain": [
              "Text(0, 0.5, 'Error Rate')"
            ]
          },
          "metadata": {},
          "execution_count": 165
        },
        {
          "output_type": "display_data",
          "data": {
            "text/plain": [
              "<Figure size 1000x600 with 1 Axes>"
            ],
            "image/png": "[encoded data removed]"
          },
          "metadata": {}
        }
      ]
    },
    {
      "cell_type": "markdown",
      "source": [
        "##Modeling Data"
      ],
      "metadata": {
        "id": "0Vf3-cqg6nKY"
      }
    },
    {
      "cell_type": "code",
      "source": [
        "print(f\"x train = {x_train.shape} \\nx_test = {x_test.shape}\")"
      ],
      "metadata": {
        "colab": {
          "base_uri": "https://localhost:8080/"
        },
        "id": "UhOBysvTdUJe",
        "outputId": "fac99a4d-6946-4d19-f8f4-aa8d1171ce3a"
      },
      "execution_count": 166,
      "outputs": [
        {
          "output_type": "stream",
          "name": "stdout",
          "text": [
            "x train = (598, 12) \n",
            "x_test = (150, 12)\n"
          ]
        }
      ]
    },
    {
      "cell_type": "code",
      "source": [
        "leaf_size = [10, 20, 30, 40, 50]\n",
        "p_arr = [1, 2]\n",
        "neighbor = [3, 5, 7, 9, 11]\n",
        "\n",
        "best_accuracy = 0\n",
        "best_params = {}\n",
        "for leaf in leaf_size:\n",
        "    for n in neighbor:\n",
        "        for p in p_arr:\n",
        "            knn = KNeighborsClassifier(n_neighbors=n, leaf_size=leaf, p=p)\n",
        "            knn.fit(x_train, y_train)\n",
        "            y_pred = knn.predict(x_test)\n",
        "            accuracy = accuracy_score(y_test, y_pred)\n",
        "            if accuracy > best_accuracy:\n",
        "                best_accuracy = accuracy\n",
        "                best_params = {\n",
        "                    'leaf_size': leaf,\n",
        "                    'n_neighbors': n,\n",
        "                    'p': p\n",
        "                }\n",
        "\n",
        "print(f\"Accuracy: {best_accuracy:.4f}\")\n",
        "print(f\"Parameters: {best_params}\")"
      ],
      "metadata": {
        "colab": {
          "base_uri": "https://localhost:8080/"
        },
        "id": "ivvUmgFvxMIB",
        "outputId": "057dd4bf-0b29-4524-b7dc-18d4b917abbc"
      },
      "execution_count": 167,
      "outputs": [
        {
          "output_type": "stream",
          "name": "stdout",
          "text": [
            "Accuracy: 0.9733\n",
            "Parameters: {'leaf_size': 10, 'n_neighbors': 7, 'p': 1}\n"
          ]
        }
      ]
    },
    {
      "cell_type": "code",
      "source": [
        "knn = KNeighborsClassifier(n_neighbors=best_params['n_neighbors'], leaf_size=best_params['leaf_size'], p=best_params['p'])\n",
        "knn.fit(x_train, y_train)\n",
        "y_pred = knn.predict(x_test)\n",
        "print(classification_report(y_test, y_pred))"
      ],
      "metadata": {
        "colab": {
          "base_uri": "https://localhost:8080/"
        },
        "id": "qsDzhz54wPw9",
        "outputId": "641b33fb-fd9f-4f5c-a42b-0ceacb69fd03"
      },
      "execution_count": 168,
      "outputs": [
        {
          "output_type": "stream",
          "name": "stdout",
          "text": [
            "              precision    recall  f1-score   support\n",
            "\n",
            "           0       1.00      0.95      0.97        81\n",
            "           1       0.95      1.00      0.97        69\n",
            "\n",
            "    accuracy                           0.97       150\n",
            "   macro avg       0.97      0.98      0.97       150\n",
            "weighted avg       0.97      0.97      0.97       150\n",
            "\n"
          ]
        }
      ]
    },
    {
      "cell_type": "code",
      "source": [
        "plt.figure(figsize=(10,6))\n",
        "cm = confusion_matrix(y_test, y_pred)\n",
        "sns.heatmap(cm, annot=True, fmt='d', cmap=\"RdPu\", square=True)\n",
        "plt.xlabel('Predicted Label')\n",
        "plt.ylabel('True Label')\n",
        "plt.title('Confusion Matrix Heatmap')\n",
        "plt.show()"
      ],
      "metadata": {
        "colab": {
          "base_uri": "https://localhost:8080/",
          "height": 564
        },
        "id": "Ec3JZQeswY_j",
        "outputId": "50513c5c-5184-4c66-b2fa-3ab5ca371745"
      },
      "execution_count": 169,
      "outputs": [
        {
          "output_type": "display_data",
          "data": {
            "text/plain": [
              "<Figure size 1000x600 with 2 Axes>"
            ],
            "image/png": "[encoded data removed]"
          },
          "metadata": {}
        }
      ]
    }
  ]
}